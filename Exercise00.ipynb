{
 "cells": [
  {
   "cell_type": "markdown",
   "metadata": {},
   "source": [
    "# Prepare your SSH Client as below"
   ]
  },
  {
   "cell_type": "markdown",
   "metadata": {},
   "source": [
    "Generate your SSH keys:\n"
   ]
  },
  {
   "cell_type": "code",
   "execution_count": null,
   "metadata": {
    "collapsed": true
   },
   "outputs": [],
   "source": [
    "Piotrs-MacBook-Pro:~ szwed$ ssh-keygen\n",
    "Generating public/private rsa key pair.\n",
    "Enter file in which to save the key (/Users/szwed/.ssh/id_rsa): /Users/szwed/.ssh/mesos\n",
    "Enter passphrase (empty for no passphrase):\n",
    "Enter same passphrase again:\n",
    "Your identification has been saved in /Users/szwed/.ssh/mesos.\n",
    "Your public key has been saved in /Users/szwed/.ssh/mesos.pub.\n",
    "The key fingerprint is:\n",
    "SHA256:FeljPxQahUIeJPlqA18HZpM4iRosw7TfxPvoKjZwjwI szwed@Piotrs-MacBook-Pro.local\n",
    "The key's randomart image is:\n",
    "+---[RSA 2048]----+\n",
    "|oo   ..*+..+.    |\n",
    "|o.+ o =oB.+..    |\n",
    "| + o o =.=.o .   |\n",
    "|  o + . o.* .    |\n",
    "|   . = oSo +     |\n",
    "|E .   B     o    |\n",
    "|o. o o o     .   |\n",
    "|.+. o            |\n",
    "|..o...           |\n",
    "+----[SHA256]-----+\n",
    "Piotrs-MacBook-Pro:~ szwed$"
   ]
  },
  {
   "cell_type": "markdown",
   "metadata": {},
   "source": [
    "Update your __/etc/hosts__ map file as like on the example below:"
   ]
  },
  {
   "cell_type": "code",
   "execution_count": null,
   "metadata": {
    "collapsed": true
   },
   "outputs": [],
   "source": [
    "13.70.195.12  mesos1\n",
    "13.70.198.176 mesos2\n",
    "13.70.194.187 mesos3\n",
    "13.70.197.51  mesos4"
   ]
  },
  {
   "cell_type": "markdown",
   "metadata": {},
   "source": [
    "Update your __.ssh/config__ file as like on the example below:"
   ]
  },
  {
   "cell_type": "code",
   "execution_count": null,
   "metadata": {
    "collapsed": true
   },
   "outputs": [],
   "source": [
    "Host mesos1\n",
    "    HostName 13.70.195.12\n",
    "    Port 22\n",
    "    User Mesos\n",
    "    IdentityFile ~/.ssh/mesos\n",
    "\n",
    "Host mesos2\n",
    "    HostName 13.70.198.176\n",
    "    Port 22\n",
    "    User Mesos\n",
    "    IdentityFile ~/.ssh/mesos\n",
    "\n",
    "Host mesos3\n",
    "    HostName 13.70.194.187\n",
    "    Port 22\n",
    "    User Mesos\n",
    "    IdentityFile ~/.ssh/mesos\n",
    "\n",
    "Host mesos4\n",
    "    HostName 13.70.197.51\n",
    "    Port 22\n",
    "    User Mesos\n",
    "    IdentityFile ~/.ssh/mesos"
   ]
  },
  {
   "cell_type": "markdown",
   "metadata": {},
   "source": [
    "If your SSH client is configured correctly you should be able to login to your servers without providing login and password:\n",
    "    "
   ]
  },
  {
   "cell_type": "code",
   "execution_count": null,
   "metadata": {
    "collapsed": true
   },
   "outputs": [],
   "source": [
    "Piotrs-MacBook-Pro:~ szwed$ ssh mesos1\n",
    "Warning: Permanently added '13.70.195.12' (ECDSA) to the list of known hosts.\n",
    "Welcome to Ubuntu 14.04.4 LTS (GNU/Linux 3.19.0-61-generic x86_64)\n",
    "\n",
    " * Documentation:  https://help.ubuntu.com/\n",
    "\n",
    "  System information as of Sat Jun 25 05:12:09 UTC 2016\n",
    "\n",
    "  System load:  0.0               Processes:           138\n",
    "  Usage of /:   6.6% of 28.80GB   Users logged in:     1\n",
    "  Memory usage: 3%                IP address for eth0: 10.0.0.101\n",
    "  Swap usage:   0%\n",
    "\n",
    "  Graph this data and manage this system at:\n",
    "    https://landscape.canonical.com/\n",
    "\n",
    "  Get cloud support with Ubuntu Advantage Cloud Guest:\n",
    "    http://www.ubuntu.com/business/services/cloud\n",
    "\n",
    "\n",
    "Last login: Sat Jun 25 05:12:10 2016 from 82.139.152.50\n",
    "Mesos@MesosTraining1:~$"
   ]
  }
 ],
 "metadata": {
  "kernelspec": {
   "display_name": "Python 3",
   "language": "python",
   "name": "python3"
  },
  "language_info": {
   "codemirror_mode": {
    "name": "ipython",
    "version": 3
   },
   "file_extension": ".py",
   "mimetype": "text/x-python",
   "name": "python",
   "nbconvert_exporter": "python",
   "pygments_lexer": "ipython3",
   "version": "3.5.1"
  }
 },
 "nbformat": 4,
 "nbformat_minor": 0
}
